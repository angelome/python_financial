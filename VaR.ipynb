{
  "nbformat": 4,
  "nbformat_minor": 0,
  "metadata": {
    "colab": {
      "provenance": [],
      "authorship_tag": "ABX9TyPg/OPC0pyzMgB19B0shsGV",
      "include_colab_link": true
    },
    "kernelspec": {
      "name": "python3",
      "display_name": "Python 3"
    },
    "language_info": {
      "name": "python"
    }
  },
  "cells": [
    {
      "cell_type": "markdown",
      "metadata": {
        "id": "view-in-github",
        "colab_type": "text"
      },
      "source": [
        "<a href=\"https://colab.research.google.com/github/angelome/python_financial/blob/main/VaR.ipynb\" target=\"_parent\"><img src=\"https://colab.research.google.com/assets/colab-badge.svg\" alt=\"Open In Colab\"/></a>"
      ]
    },
    {
      "cell_type": "markdown",
      "source": [
        "Portfolio Value at Risk and Conditional Value at Risk"
      ],
      "metadata": {
        "id": "CabT9HZZq2_O"
      }
    },
    {
      "cell_type": "code",
      "execution_count": 14,
      "metadata": {
        "id": "4_xtea-Lq180"
      },
      "outputs": [],
      "source": [
        "import time\n",
        "import numpy as np\n",
        "import numpy.random as npr\n",
        "import pandas as pd\n",
        "import scipy.stats as scs\n",
        "from scipy.stats import norm\n",
        "import matplotlib.pyplot as plt"
      ]
    },
    {
      "cell_type": "markdown",
      "source": [
        "I use normal distributions to simulate asset returns"
      ],
      "metadata": {
        "id": "u40JIFTjrPIC"
      }
    },
    {
      "cell_type": "code",
      "source": [
        "S0 = 100\n",
        "r = 0.05\n",
        "sigma = 0.25\n",
        "T = 30 / 365.\n",
        "I = 10000\n",
        "ST = S0 * np.exp((r - 0.5 * sigma ** 2) * T + sigma * np.sqrt(T) * npr.standard_normal(I))\n",
        "R_gbm = np.sort(ST - S0)"
      ],
      "metadata": {
        "id": "6gPZc1aprDGY"
      },
      "execution_count": 16,
      "outputs": []
    },
    {
      "cell_type": "markdown",
      "source": [
        "I show the histogram of the simulated absolute performance values"
      ],
      "metadata": {
        "id": "atUbdbnHvdo0"
      }
    },
    {
      "cell_type": "code",
      "source": [
        "plt.hist(R_gbm, bins=50)\n",
        "plt.xlabel('absolute return')\n",
        "plt.ylabel('frequency')\n",
        "plt.grid(True)"
      ],
      "metadata": {
        "colab": {
          "base_uri": "https://localhost:8080/",
          "height": 279
        },
        "id": "hoaCJt43uhY6",
        "outputId": "9ddf45da-48c3-4712-a7aa-91f577e31785"
      },
      "execution_count": 17,
      "outputs": [
        {
          "output_type": "display_data",
          "data": {
            "text/plain": [
              "<Figure size 432x288 with 1 Axes>"
            ],
            "image/png": "[encoded data removed]"
          },
          "metadata": {
            "needs_background": "light"
          }
        }
      ]
    },
    {
      "cell_type": "markdown",
      "source": [
        "We have to define the percentiles (in percent values) in which we are interested.\n",
        "\n",
        "0.1 translates into a confidence level of 100% – 0.1% = 99.9%.\n",
        "\n",
        "The 30-day VaR, given a confidence level of 99.9% in this case is 20.4 currency units, while it is 8.7 at the 90% confidence level:"
      ],
      "metadata": {
        "id": "IFg9mlpAv5Y4"
      }
    },
    {
      "cell_type": "code",
      "source": [
        "percs = [0.01, 0.1, 1., 2.5, 5.0, 10.0]\n",
        "var = scs.scoreatpercentile(R_gbm, percs)\n",
        "print ('%16s %16s' % ('Confidence Level', 'Value-at-Risk'))\n",
        "print (33 * '-')\n",
        "for pair in zip(percs, var):\n",
        "  print ('%16.2f %16.3f' % (100 - pair[0], -pair[1]))"
      ],
      "metadata": {
        "colab": {
          "base_uri": "https://localhost:8080/"
        },
        "id": "XkMV3Kyore9f",
        "outputId": "b1ce157a-a58b-46b4-8def-0450752f875b"
      },
      "execution_count": 18,
      "outputs": [
        {
          "output_type": "stream",
          "name": "stdout",
          "text": [
            "Confidence Level    Value-at-Risk\n",
            "---------------------------------\n",
            "           99.99           26.354\n",
            "           99.90           19.945\n",
            "           99.00           15.349\n",
            "           97.50           13.126\n",
            "           95.00           11.048\n",
            "           90.00            8.748\n"
          ]
        }
      ]
    },
    {
      "cell_type": "code",
      "source": [],
      "metadata": {
        "id": "hQhGGZv5xT3j"
      },
      "execution_count": null,
      "outputs": []
    }
  ]
}