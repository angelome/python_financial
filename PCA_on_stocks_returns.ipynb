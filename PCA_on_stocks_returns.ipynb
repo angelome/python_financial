{
  "nbformat": 4,
  "nbformat_minor": 0,
  "metadata": {
    "colab": {
      "provenance": [],
      "authorship_tag": "ABX9TyOG6e+ZzklkwiHfd8SQwMvA",
      "include_colab_link": true
    },
    "kernelspec": {
      "name": "python3",
      "display_name": "Python 3"
    },
    "language_info": {
      "name": "python"
    }
  },
  "cells": [
    {
      "cell_type": "markdown",
      "metadata": {
        "id": "view-in-github",
        "colab_type": "text"
      },
      "source": [
        "<a href=\"https://colab.research.google.com/github/angelome/python_financial/blob/main/PCA_on_stocks_returns.ipynb\" target=\"_parent\"><img src=\"https://colab.research.google.com/assets/colab-badge.svg\" alt=\"Open In Colab\"/></a>"
      ]
    },
    {
      "cell_type": "markdown",
      "source": [
        "Step 1: Get the data\n",
        "Start by importing the libraries. \n",
        "sklearn is a package used to build statistical models for data analysis."
      ],
      "metadata": {
        "id": "gRF88CG2nCXu"
      }
    },
    {
      "cell_type": "code",
      "source": [
        "pip install yfinance"
      ],
      "metadata": {
        "colab": {
          "base_uri": "https://localhost:8080/"
        },
        "id": "L2dbdeE_efvU",
        "outputId": "e7d35699-3e12-4869-d7b0-9b2eb8e69900"
      },
      "execution_count": 2,
      "outputs": [
        {
          "output_type": "stream",
          "name": "stdout",
          "text": [
            "Looking in indexes: https://pypi.org/simple, https://us-python.pkg.dev/colab-wheels/public/simple/\n",
            "Collecting yfinance\n",
            "  Downloading yfinance-0.2.4-py2.py3-none-any.whl (51 kB)\n",
            "\u001b[2K     \u001b[90m━━━━━━━━━━━━━━━━━━━━━━━━━━━━━━━━━━━━━━━━\u001b[0m \u001b[32m51.4/51.4 KB\u001b[0m \u001b[31m3.3 MB/s\u001b[0m eta \u001b[36m0:00:00\u001b[0m\n",
            "\u001b[?25hCollecting html5lib>=1.1\n",
            "  Downloading html5lib-1.1-py2.py3-none-any.whl (112 kB)\n",
            "\u001b[2K     \u001b[90m━━━━━━━━━━━━━━━━━━━━━━━━━━━━━━━━━━━━━━━\u001b[0m \u001b[32m112.2/112.2 KB\u001b[0m \u001b[31m7.0 MB/s\u001b[0m eta \u001b[36m0:00:00\u001b[0m\n",
            "\u001b[?25hCollecting frozendict>=2.3.4\n",
            "  Downloading frozendict-2.3.4-cp38-cp38-manylinux_2_17_x86_64.manylinux2014_x86_64.whl (110 kB)\n",
            "\u001b[2K     \u001b[90m━━━━━━━━━━━━━━━━━━━━━━━━━━━━━━━━━━━━━━\u001b[0m \u001b[32m111.0/111.0 KB\u001b[0m \u001b[31m14.0 MB/s\u001b[0m eta \u001b[36m0:00:00\u001b[0m\n",
            "\u001b[?25hRequirement already satisfied: pandas>=1.3.0 in /usr/local/lib/python3.8/dist-packages (from yfinance) (1.3.5)\n",
            "Collecting cryptography>=3.3.2\n",
            "  Downloading cryptography-39.0.0-cp36-abi3-manylinux_2_28_x86_64.whl (4.2 MB)\n",
            "\u001b[2K     \u001b[90m━━━━━━━━━━━━━━━━━━━━━━━━━━━━━━━━━━━━━━━━\u001b[0m \u001b[32m4.2/4.2 MB\u001b[0m \u001b[31m52.8 MB/s\u001b[0m eta \u001b[36m0:00:00\u001b[0m\n",
            "\u001b[?25hRequirement already satisfied: numpy>=1.16.5 in /usr/local/lib/python3.8/dist-packages (from yfinance) (1.21.6)\n",
            "Requirement already satisfied: appdirs>=1.4.4 in /usr/local/lib/python3.8/dist-packages (from yfinance) (1.4.4)\n",
            "Requirement already satisfied: pytz>=2022.5 in /usr/local/lib/python3.8/dist-packages (from yfinance) (2022.7)\n",
            "Collecting beautifulsoup4>=4.11.1\n",
            "  Downloading beautifulsoup4-4.11.1-py3-none-any.whl (128 kB)\n",
            "\u001b[2K     \u001b[90m━━━━━━━━━━━━━━━━━━━━━━━━━━━━━━━━━━━━━━━\u001b[0m \u001b[32m128.2/128.2 KB\u001b[0m \u001b[31m2.7 MB/s\u001b[0m eta \u001b[36m0:00:00\u001b[0m\n",
            "\u001b[?25hRequirement already satisfied: lxml>=4.9.1 in /usr/local/lib/python3.8/dist-packages (from yfinance) (4.9.2)\n",
            "Requirement already satisfied: multitasking>=0.0.7 in /usr/local/lib/python3.8/dist-packages (from yfinance) (0.0.11)\n",
            "Collecting requests>=2.26\n",
            "  Downloading requests-2.28.2-py3-none-any.whl (62 kB)\n",
            "\u001b[2K     \u001b[90m━━━━━━━━━━━━━━━━━━━━━━━━━━━━━━━━━━━━━━━━\u001b[0m \u001b[32m62.8/62.8 KB\u001b[0m \u001b[31m3.9 MB/s\u001b[0m eta \u001b[36m0:00:00\u001b[0m\n",
            "\u001b[?25hCollecting soupsieve>1.2\n",
            "  Downloading soupsieve-2.3.2.post1-py3-none-any.whl (37 kB)\n",
            "Requirement already satisfied: cffi>=1.12 in /usr/local/lib/python3.8/dist-packages (from cryptography>=3.3.2->yfinance) (1.15.1)\n",
            "Requirement already satisfied: six>=1.9 in /usr/local/lib/python3.8/dist-packages (from html5lib>=1.1->yfinance) (1.15.0)\n",
            "Requirement already satisfied: webencodings in /usr/local/lib/python3.8/dist-packages (from html5lib>=1.1->yfinance) (0.5.1)\n",
            "Requirement already satisfied: python-dateutil>=2.7.3 in /usr/local/lib/python3.8/dist-packages (from pandas>=1.3.0->yfinance) (2.8.2)\n",
            "Requirement already satisfied: charset-normalizer<4,>=2 in /usr/local/lib/python3.8/dist-packages (from requests>=2.26->yfinance) (2.1.1)\n",
            "Requirement already satisfied: idna<4,>=2.5 in /usr/local/lib/python3.8/dist-packages (from requests>=2.26->yfinance) (2.10)\n",
            "Requirement already satisfied: certifi>=2017.4.17 in /usr/local/lib/python3.8/dist-packages (from requests>=2.26->yfinance) (2022.12.7)\n",
            "Requirement already satisfied: urllib3<1.27,>=1.21.1 in /usr/local/lib/python3.8/dist-packages (from requests>=2.26->yfinance) (1.24.3)\n",
            "Requirement already satisfied: pycparser in /usr/local/lib/python3.8/dist-packages (from cffi>=1.12->cryptography>=3.3.2->yfinance) (2.21)\n",
            "Installing collected packages: soupsieve, requests, html5lib, frozendict, cryptography, beautifulsoup4, yfinance\n",
            "  Attempting uninstall: requests\n",
            "    Found existing installation: requests 2.25.1\n",
            "    Uninstalling requests-2.25.1:\n",
            "      Successfully uninstalled requests-2.25.1\n",
            "  Attempting uninstall: html5lib\n",
            "    Found existing installation: html5lib 1.0.1\n",
            "    Uninstalling html5lib-1.0.1:\n",
            "      Successfully uninstalled html5lib-1.0.1\n",
            "  Attempting uninstall: beautifulsoup4\n",
            "    Found existing installation: beautifulsoup4 4.6.3\n",
            "    Uninstalling beautifulsoup4-4.6.3:\n",
            "      Successfully uninstalled beautifulsoup4-4.6.3\n",
            "Successfully installed beautifulsoup4-4.11.1 cryptography-39.0.0 frozendict-2.3.4 html5lib-1.1 requests-2.28.2 soupsieve-2.3.2.post1 yfinance-0.2.4\n"
          ]
        }
      ]
    },
    {
      "cell_type": "code",
      "execution_count": 3,
      "metadata": {
        "id": "5aOy9k-TeNDx"
      },
      "outputs": [],
      "source": [
        "import yfinance as yf\n",
        "import pandas as pd\n",
        "import numpy as np\n",
        "from sklearn.decomposition import PCA\n",
        "import matplotlib.pyplot as plt"
      ]
    },
    {
      "cell_type": "markdown",
      "source": [
        "portfolio of stocks I want to analyse"
      ],
      "metadata": {
        "id": "_CMN3xT5ezCJ"
      }
    },
    {
      "cell_type": "code",
      "source": [
        "symbols = [ 'IBM', 'MSFT', 'META','INTC', 'NEM','AU','AEM','GFI']\n"
      ],
      "metadata": {
        "id": "d_2isWdNeWT6"
      },
      "execution_count": 4,
      "outputs": []
    },
    {
      "cell_type": "markdown",
      "source": [
        "download and clean data"
      ],
      "metadata": {
        "id": "mj3jnha_f0Hh"
      }
    },
    {
      "cell_type": "code",
      "source": [
        "data = yf.download(symbols, start=\"2020-01-01\", end=\"2022-11-30\")\n",
        "portfolio_returns = data['Adj Close'].pct_change().dropna()"
      ],
      "metadata": {
        "colab": {
          "base_uri": "https://localhost:8080/"
        },
        "id": "cOwfAbmwf65L",
        "outputId": "09ca72c1-4917-4921-efa3-6a1537fad4d0"
      },
      "execution_count": 5,
      "outputs": [
        {
          "output_type": "stream",
          "name": "stdout",
          "text": [
            "[*********************100%***********************]  8 of 8 completed\n"
          ]
        }
      ]
    },
    {
      "cell_type": "code",
      "source": [
        "#Step 2: Fit a PCA model\n",
        "#sklearn makes it easy to fit a PCA model and get the components.\n",
        "\n",
        "pca = PCA(n_components=3)\n",
        "pca.fit(portfolio_returns)\n",
        "#The n_components argument tells sklearn how many of the top components to return. \n",
        "#Fit the model with the portfolio returns and the algorithm will look for the top three components that explain most of the variance in the returns.\n"
      ],
      "metadata": {
        "colab": {
          "base_uri": "https://localhost:8080/"
        },
        "id": "x4YJRERKgARL",
        "outputId": "b8dc112c-0099-47cb-d1a5-95f874afbfb9"
      },
      "execution_count": 6,
      "outputs": [
        {
          "output_type": "execute_result",
          "data": {
            "text/plain": [
              "PCA(n_components=3)"
            ]
          },
          "metadata": {},
          "execution_count": 6
        }
      ]
    },
    {
      "cell_type": "code",
      "source": [
        "pct = pca.explained_variance_ratio_\n",
        "pca_components = pca.components_\n",
        "# After you fit the model, grab the explained variance and components "
      ],
      "metadata": {
        "id": "zKYLRgD5gOoB"
      },
      "execution_count": 7,
      "outputs": []
    },
    {
      "cell_type": "code",
      "source": [
        "pct"
      ],
      "metadata": {
        "colab": {
          "base_uri": "https://localhost:8080/"
        },
        "id": "DLAF-2vPgzZq",
        "outputId": "53e97726-9231-4a54-feac-3d446f92d2b0"
      },
      "execution_count": 9,
      "outputs": [
        {
          "output_type": "execute_result",
          "data": {
            "text/plain": [
              "array([0.54983189, 0.22756866, 0.06990876])"
            ]
          },
          "metadata": {},
          "execution_count": 9
        }
      ]
    },
    {
      "cell_type": "markdown",
      "source": [
        "\"pct\" shows the contribution of the top three components toward the total variance.\n",
        "These components contribute the most to the information in the data. The first component explains 54.9% of the variation in the portfolio returns."
      ],
      "metadata": {
        "id": "mttePokpjJc4"
      }
    },
    {
      "cell_type": "code",
      "source": [
        "pca_components"
      ],
      "metadata": {
        "colab": {
          "base_uri": "https://localhost:8080/"
        },
        "id": "a5mz4_pfg1C9",
        "outputId": "fd3ed8cb-5f40-4184-d18c-962ebed06eea"
      },
      "execution_count": 10,
      "outputs": [
        {
          "output_type": "execute_result",
          "data": {
            "text/plain": [
              "array([[ 0.37594631,  0.54951356,  0.64159951,  0.07896229,  0.09811401,\n",
              "         0.1225272 ,  0.10081186,  0.32250881],\n",
              "       [ 0.02793496,  0.12305942,  0.17653234, -0.25222651, -0.53577064,\n",
              "        -0.63526633, -0.44557604,  0.01194328],\n",
              "       [ 0.12803223, -0.03725371, -0.16023228,  0.44072974,  0.50608724,\n",
              "        -0.67700394,  0.04718444,  0.21358328]])"
            ]
          },
          "metadata": {},
          "execution_count": 10
        }
      ]
    },
    {
      "cell_type": "code",
      "source": [
        "#Step 3: Visualize the components\n",
        "\n",
        "cum_pct = np.cumsum(pct)\n",
        "x = np.arange(1,len(pct)+1,1)\n",
        "\n",
        "plt.subplot(1, 2, 1)\n",
        "plt.bar(x, pct * 100, align=\"center\")\n",
        "plt.title('Contribution (%)')\n",
        "plt.xlabel('Component')\n",
        "plt.xticks(x)\n",
        "plt.xlim([0, 4])\n",
        "plt.ylim([0, 100])\n",
        "\n",
        "plt.subplot(1, 2, 2)\n",
        "plt.plot(x, cum_pct * 100, 'ro-')\n",
        "plt.title('Cumulative contribution (%)')\n",
        "plt.xlabel('Component')\n",
        "plt.xticks(x)\n",
        "plt.xlim([0, 4])\n",
        "plt.ylim([0, 100])"
      ],
      "metadata": {
        "colab": {
          "base_uri": "https://localhost:8080/",
          "height": 312
        },
        "id": "EAeEpu8Mg7qL",
        "outputId": "93bf5ebe-92ae-4232-aa73-774ae457a769"
      },
      "execution_count": 11,
      "outputs": [
        {
          "output_type": "execute_result",
          "data": {
            "text/plain": [
              "(0.0, 100.0)"
            ]
          },
          "metadata": {},
          "execution_count": 11
        },
        {
          "output_type": "display_data",
          "data": {
            "text/plain": [
              "<Figure size 432x288 with 2 Axes>"
            ],
            "image/png": "[encoded data removed]"
          },
          "metadata": {
            "needs_background": "light"
          }
        }
      ]
    },
    {
      "cell_type": "markdown",
      "source": [
        "The chart on the left shows the contribution of the top three components toward the total variance. \n",
        "In other words, these components contribute the most to the information in the data. The first component explains 54.9% of the variation in the portfolio returns. In stock portfolios, this is usually driven by the overall market movement.\n",
        "\n",
        "The chart on the right is the cumulative sum of the contribution of each component. It shows the top three components explain 84.7% of total portfolio returns. Two or three components explaining close to 85% of the contribution is a good result."
      ],
      "metadata": {
        "id": "XDDclDYehTx9"
      }
    },
    {
      "cell_type": "markdown",
      "source": [
        "Step 4: Isolate the alpha factors\n",
        "There are drivers that move stock prices that we can’t see. \n",
        "These latent factors are picked up through PCA and isolated as the principal components. \n",
        "Macroeconomic drivers like interest rates and the pandemic drive returns, too. PCA lets you isolate these statistical factors to get an idea of how much the portfolio’s returns come from these unobserved features."
      ],
      "metadata": {
        "id": "WbIfiqfXh-rS"
      }
    },
    {
      "cell_type": "code",
      "source": [
        "pca.components_"
      ],
      "metadata": {
        "colab": {
          "base_uri": "https://localhost:8080/"
        },
        "id": "-o-ndL6hiU1n",
        "outputId": "9525bbb1-a850-4e4f-b438-74b872061c3b"
      },
      "execution_count": 13,
      "outputs": [
        {
          "output_type": "execute_result",
          "data": {
            "text/plain": [
              "array([[ 0.37594631,  0.54951356,  0.64159951,  0.07896229,  0.09811401,\n",
              "         0.1225272 ,  0.10081186,  0.32250881],\n",
              "       [ 0.02793496,  0.12305942,  0.17653234, -0.25222651, -0.53577064,\n",
              "        -0.63526633, -0.44557604,  0.01194328],\n",
              "       [ 0.12803223, -0.03725371, -0.16023228,  0.44072974,  0.50608724,\n",
              "        -0.67700394,  0.04718444,  0.21358328]])"
            ]
          },
          "metadata": {},
          "execution_count": 13
        }
      ]
    },
    {
      "cell_type": "code",
      "source": [
        "X = np.asarray(portfolio_returns)\n",
        "\n",
        "factor_returns = X.dot(pca_components.T)\n",
        "factor_returns = pd.DataFrame(columns=[\"f1\", \"f2\", \"f3\"], \n",
        "                        index=portfolio_returns.index, data=factor_returns)\n",
        "factor_returns.head()"
      ],
      "metadata": {
        "colab": {
          "base_uri": "https://localhost:8080/",
          "height": 237
        },
        "id": "tOmUUCIghaBN",
        "outputId": "96484c00-e11c-4f6f-82ef-5ccbff5666aa"
      },
      "execution_count": 12,
      "outputs": [
        {
          "output_type": "execute_result",
          "data": {
            "text/plain": [
              "                                 f1        f2        f3\n",
              "Date                                                   \n",
              "2020-01-03 00:00:00-05:00 -0.011794  0.015824 -0.007090\n",
              "2020-01-06 00:00:00-05:00  0.009480 -0.010078 -0.013161\n",
              "2020-01-07 00:00:00-05:00 -0.006960  0.009891 -0.008298\n",
              "2020-01-08 00:00:00-05:00 -0.074473 -0.031461 -0.002840\n",
              "2020-01-09 00:00:00-05:00 -0.012222 -0.023795 -0.001387"
            ],
            "text/html": [
              "\n",
              "  <div id=\"df-eb0a0994-2037-45b3-be26-add9cfaeca86\">\n",
              "    <div class=\"colab-df-container\">\n",
              "      <div>\n",
              "<style scoped>\n",
              "    .dataframe tbody tr th:only-of-type {\n",
              "        vertical-align: middle;\n",
              "    }\n",
              "\n",
              "    .dataframe tbody tr th {\n",
              "        vertical-align: top;\n",
              "    }\n",
              "\n",
              "    .dataframe thead th {\n",
              "        text-align: right;\n",
              "    }\n",
              "</style>\n",
              "<table border=\"1\" class=\"dataframe\">\n",
              "  <thead>\n",
              "    <tr style=\"text-align: right;\">\n",
              "      <th></th>\n",
              "      <th>f1</th>\n",
              "      <th>f2</th>\n",
              "      <th>f3</th>\n",
              "    </tr>\n",
              "    <tr>\n",
              "      <th>Date</th>\n",
              "      <th></th>\n",
              "      <th></th>\n",
              "      <th></th>\n",
              "    </tr>\n",
              "  </thead>\n",
              "  <tbody>\n",
              "    <tr>\n",
              "      <th>2020-01-03 00:00:00-05:00</th>\n",
              "      <td>-0.011794</td>\n",
              "      <td>0.015824</td>\n",
              "      <td>-0.007090</td>\n",
              "    </tr>\n",
              "    <tr>\n",
              "      <th>2020-01-06 00:00:00-05:00</th>\n",
              "      <td>0.009480</td>\n",
              "      <td>-0.010078</td>\n",
              "      <td>-0.013161</td>\n",
              "    </tr>\n",
              "    <tr>\n",
              "      <th>2020-01-07 00:00:00-05:00</th>\n",
              "      <td>-0.006960</td>\n",
              "      <td>0.009891</td>\n",
              "      <td>-0.008298</td>\n",
              "    </tr>\n",
              "    <tr>\n",
              "      <th>2020-01-08 00:00:00-05:00</th>\n",
              "      <td>-0.074473</td>\n",
              "      <td>-0.031461</td>\n",
              "      <td>-0.002840</td>\n",
              "    </tr>\n",
              "    <tr>\n",
              "      <th>2020-01-09 00:00:00-05:00</th>\n",
              "      <td>-0.012222</td>\n",
              "      <td>-0.023795</td>\n",
              "      <td>-0.001387</td>\n",
              "    </tr>\n",
              "  </tbody>\n",
              "</table>\n",
              "</div>\n",
              "      <button class=\"colab-df-convert\" onclick=\"convertToInteractive('df-eb0a0994-2037-45b3-be26-add9cfaeca86')\"\n",
              "              title=\"Convert this dataframe to an interactive table.\"\n",
              "              style=\"display:none;\">\n",
              "        \n",
              "  <svg xmlns=\"http://www.w3.org/2000/svg\" height=\"24px\"viewBox=\"0 0 24 24\"\n",
              "       width=\"24px\">\n",
              "    <path d=\"M0 0h24v24H0V0z\" fill=\"none\"/>\n",
              "    <path d=\"M18.56 5.44l.94 2.06.94-2.06 2.06-.94-2.06-.94-.94-2.06-.94 2.06-2.06.94zm-11 1L8.5 8.5l.94-2.06 2.06-.94-2.06-.94L8.5 2.5l-.94 2.06-2.06.94zm10 10l.94 2.06.94-2.06 2.06-.94-2.06-.94-.94-2.06-.94 2.06-2.06.94z\"/><path d=\"M17.41 7.96l-1.37-1.37c-.4-.4-.92-.59-1.43-.59-.52 0-1.04.2-1.43.59L10.3 9.45l-7.72 7.72c-.78.78-.78 2.05 0 2.83L4 21.41c.39.39.9.59 1.41.59.51 0 1.02-.2 1.41-.59l7.78-7.78 2.81-2.81c.8-.78.8-2.07 0-2.86zM5.41 20L4 18.59l7.72-7.72 1.47 1.35L5.41 20z\"/>\n",
              "  </svg>\n",
              "      </button>\n",
              "      \n",
              "  <style>\n",
              "    .colab-df-container {\n",
              "      display:flex;\n",
              "      flex-wrap:wrap;\n",
              "      gap: 12px;\n",
              "    }\n",
              "\n",
              "    .colab-df-convert {\n",
              "      background-color: #E8F0FE;\n",
              "      border: none;\n",
              "      border-radius: 50%;\n",
              "      cursor: pointer;\n",
              "      display: none;\n",
              "      fill: #1967D2;\n",
              "      height: 32px;\n",
              "      padding: 0 0 0 0;\n",
              "      width: 32px;\n",
              "    }\n",
              "\n",
              "    .colab-df-convert:hover {\n",
              "      background-color: #E2EBFA;\n",
              "      box-shadow: 0px 1px 2px rgba(60, 64, 67, 0.3), 0px 1px 3px 1px rgba(60, 64, 67, 0.15);\n",
              "      fill: #174EA6;\n",
              "    }\n",
              "\n",
              "    [theme=dark] .colab-df-convert {\n",
              "      background-color: #3B4455;\n",
              "      fill: #D2E3FC;\n",
              "    }\n",
              "\n",
              "    [theme=dark] .colab-df-convert:hover {\n",
              "      background-color: #434B5C;\n",
              "      box-shadow: 0px 1px 3px 1px rgba(0, 0, 0, 0.15);\n",
              "      filter: drop-shadow(0px 1px 2px rgba(0, 0, 0, 0.3));\n",
              "      fill: #FFFFFF;\n",
              "    }\n",
              "  </style>\n",
              "\n",
              "      <script>\n",
              "        const buttonEl =\n",
              "          document.querySelector('#df-eb0a0994-2037-45b3-be26-add9cfaeca86 button.colab-df-convert');\n",
              "        buttonEl.style.display =\n",
              "          google.colab.kernel.accessAllowed ? 'block' : 'none';\n",
              "\n",
              "        async function convertToInteractive(key) {\n",
              "          const element = document.querySelector('#df-eb0a0994-2037-45b3-be26-add9cfaeca86');\n",
              "          const dataTable =\n",
              "            await google.colab.kernel.invokeFunction('convertToInteractive',\n",
              "                                                     [key], {});\n",
              "          if (!dataTable) return;\n",
              "\n",
              "          const docLinkHtml = 'Like what you see? Visit the ' +\n",
              "            '<a target=\"_blank\" href=https://colab.research.google.com/notebooks/data_table.ipynb>data table notebook</a>'\n",
              "            + ' to learn more about interactive tables.';\n",
              "          element.innerHTML = '';\n",
              "          dataTable['output_type'] = 'display_data';\n",
              "          await google.colab.output.renderOutput(dataTable, element);\n",
              "          const docLink = document.createElement('div');\n",
              "          docLink.innerHTML = docLinkHtml;\n",
              "          element.appendChild(docLink);\n",
              "        }\n",
              "      </script>\n",
              "    </div>\n",
              "  </div>\n",
              "  "
            ]
          },
          "metadata": {},
          "execution_count": 12
        }
      ]
    },
    {
      "cell_type": "code",
      "source": [],
      "metadata": {
        "id": "5zpnC8jciqPT"
      },
      "execution_count": null,
      "outputs": []
    },
    {
      "cell_type": "markdown",
      "source": [
        "First, muliply the portfolio returns by the principle components. \n",
        "The resulting DataFrame gives you how much of that day’s portfolio return is a result of each of the three factors.\n",
        "\n",
        "Similar stocks will be driven by similar factors. PCA makes it easy to visualize this."
      ],
      "metadata": {
        "id": "ID3CYKtqjjCV"
      }
    },
    {
      "cell_type": "code",
      "source": [
        "factor_exposures = pd.DataFrame( index=[\"f1\", \"f2\", \"f3\"], \n",
        "    columns=portfolio_returns.columns,\n",
        "    data = pca_components).T\n",
        "\n",
        "factor_exposures.f1.sort_values().plot.bar()"
      ],
      "metadata": {
        "colab": {
          "base_uri": "https://localhost:8080/",
          "height": 299
        },
        "id": "XNd4-p4HklJ2",
        "outputId": "bc7f8321-363c-408c-9aca-c464c1bb952c"
      },
      "execution_count": 14,
      "outputs": [
        {
          "output_type": "execute_result",
          "data": {
            "text/plain": [
              "<matplotlib.axes._subplots.AxesSubplot at 0x7f1051cc51f0>"
            ]
          },
          "metadata": {},
          "execution_count": 14
        },
        {
          "output_type": "display_data",
          "data": {
            "text/plain": [
              "<Figure size 432x288 with 1 Axes>"
            ],
            "image/png": "[encoded data removed]"
          },
          "metadata": {
            "needs_background": "light"
          }
        }
      ]
    },
    {
      "cell_type": "code",
      "source": [
        "factor_exposures "
      ],
      "metadata": {
        "colab": {
          "base_uri": "https://localhost:8080/",
          "height": 300
        },
        "id": "ZN0DA5jiksmm",
        "outputId": "f134a1d5-3500-496e-c83b-c7f701e9f362"
      },
      "execution_count": 15,
      "outputs": [
        {
          "output_type": "execute_result",
          "data": {
            "text/plain": [
              "            f1        f2        f3\n",
              "AEM   0.375946  0.027935  0.128032\n",
              "AU    0.549514  0.123059 -0.037254\n",
              "GFI   0.641600  0.176532 -0.160232\n",
              "IBM   0.078962 -0.252227  0.440730\n",
              "INTC  0.098114 -0.535771  0.506087\n",
              "META  0.122527 -0.635266 -0.677004\n",
              "MSFT  0.100812 -0.445576  0.047184\n",
              "NEM   0.322509  0.011943  0.213583"
            ],
            "text/html": [
              "\n",
              "  <div id=\"df-67ad5a49-68c5-487a-ba91-937b8434c83e\">\n",
              "    <div class=\"colab-df-container\">\n",
              "      <div>\n",
              "<style scoped>\n",
              "    .dataframe tbody tr th:only-of-type {\n",
              "        vertical-align: middle;\n",
              "    }\n",
              "\n",
              "    .dataframe tbody tr th {\n",
              "        vertical-align: top;\n",
              "    }\n",
              "\n",
              "    .dataframe thead th {\n",
              "        text-align: right;\n",
              "    }\n",
              "</style>\n",
              "<table border=\"1\" class=\"dataframe\">\n",
              "  <thead>\n",
              "    <tr style=\"text-align: right;\">\n",
              "      <th></th>\n",
              "      <th>f1</th>\n",
              "      <th>f2</th>\n",
              "      <th>f3</th>\n",
              "    </tr>\n",
              "  </thead>\n",
              "  <tbody>\n",
              "    <tr>\n",
              "      <th>AEM</th>\n",
              "      <td>0.375946</td>\n",
              "      <td>0.027935</td>\n",
              "      <td>0.128032</td>\n",
              "    </tr>\n",
              "    <tr>\n",
              "      <th>AU</th>\n",
              "      <td>0.549514</td>\n",
              "      <td>0.123059</td>\n",
              "      <td>-0.037254</td>\n",
              "    </tr>\n",
              "    <tr>\n",
              "      <th>GFI</th>\n",
              "      <td>0.641600</td>\n",
              "      <td>0.176532</td>\n",
              "      <td>-0.160232</td>\n",
              "    </tr>\n",
              "    <tr>\n",
              "      <th>IBM</th>\n",
              "      <td>0.078962</td>\n",
              "      <td>-0.252227</td>\n",
              "      <td>0.440730</td>\n",
              "    </tr>\n",
              "    <tr>\n",
              "      <th>INTC</th>\n",
              "      <td>0.098114</td>\n",
              "      <td>-0.535771</td>\n",
              "      <td>0.506087</td>\n",
              "    </tr>\n",
              "    <tr>\n",
              "      <th>META</th>\n",
              "      <td>0.122527</td>\n",
              "      <td>-0.635266</td>\n",
              "      <td>-0.677004</td>\n",
              "    </tr>\n",
              "    <tr>\n",
              "      <th>MSFT</th>\n",
              "      <td>0.100812</td>\n",
              "      <td>-0.445576</td>\n",
              "      <td>0.047184</td>\n",
              "    </tr>\n",
              "    <tr>\n",
              "      <th>NEM</th>\n",
              "      <td>0.322509</td>\n",
              "      <td>0.011943</td>\n",
              "      <td>0.213583</td>\n",
              "    </tr>\n",
              "  </tbody>\n",
              "</table>\n",
              "</div>\n",
              "      <button class=\"colab-df-convert\" onclick=\"convertToInteractive('df-67ad5a49-68c5-487a-ba91-937b8434c83e')\"\n",
              "              title=\"Convert this dataframe to an interactive table.\"\n",
              "              style=\"display:none;\">\n",
              "        \n",
              "  <svg xmlns=\"http://www.w3.org/2000/svg\" height=\"24px\"viewBox=\"0 0 24 24\"\n",
              "       width=\"24px\">\n",
              "    <path d=\"M0 0h24v24H0V0z\" fill=\"none\"/>\n",
              "    <path d=\"M18.56 5.44l.94 2.06.94-2.06 2.06-.94-2.06-.94-.94-2.06-.94 2.06-2.06.94zm-11 1L8.5 8.5l.94-2.06 2.06-.94-2.06-.94L8.5 2.5l-.94 2.06-2.06.94zm10 10l.94 2.06.94-2.06 2.06-.94-2.06-.94-.94-2.06-.94 2.06-2.06.94z\"/><path d=\"M17.41 7.96l-1.37-1.37c-.4-.4-.92-.59-1.43-.59-.52 0-1.04.2-1.43.59L10.3 9.45l-7.72 7.72c-.78.78-.78 2.05 0 2.83L4 21.41c.39.39.9.59 1.41.59.51 0 1.02-.2 1.41-.59l7.78-7.78 2.81-2.81c.8-.78.8-2.07 0-2.86zM5.41 20L4 18.59l7.72-7.72 1.47 1.35L5.41 20z\"/>\n",
              "  </svg>\n",
              "      </button>\n",
              "      \n",
              "  <style>\n",
              "    .colab-df-container {\n",
              "      display:flex;\n",
              "      flex-wrap:wrap;\n",
              "      gap: 12px;\n",
              "    }\n",
              "\n",
              "    .colab-df-convert {\n",
              "      background-color: #E8F0FE;\n",
              "      border: none;\n",
              "      border-radius: 50%;\n",
              "      cursor: pointer;\n",
              "      display: none;\n",
              "      fill: #1967D2;\n",
              "      height: 32px;\n",
              "      padding: 0 0 0 0;\n",
              "      width: 32px;\n",
              "    }\n",
              "\n",
              "    .colab-df-convert:hover {\n",
              "      background-color: #E2EBFA;\n",
              "      box-shadow: 0px 1px 2px rgba(60, 64, 67, 0.3), 0px 1px 3px 1px rgba(60, 64, 67, 0.15);\n",
              "      fill: #174EA6;\n",
              "    }\n",
              "\n",
              "    [theme=dark] .colab-df-convert {\n",
              "      background-color: #3B4455;\n",
              "      fill: #D2E3FC;\n",
              "    }\n",
              "\n",
              "    [theme=dark] .colab-df-convert:hover {\n",
              "      background-color: #434B5C;\n",
              "      box-shadow: 0px 1px 3px 1px rgba(0, 0, 0, 0.15);\n",
              "      filter: drop-shadow(0px 1px 2px rgba(0, 0, 0, 0.3));\n",
              "      fill: #FFFFFF;\n",
              "    }\n",
              "  </style>\n",
              "\n",
              "      <script>\n",
              "        const buttonEl =\n",
              "          document.querySelector('#df-67ad5a49-68c5-487a-ba91-937b8434c83e button.colab-df-convert');\n",
              "        buttonEl.style.display =\n",
              "          google.colab.kernel.accessAllowed ? 'block' : 'none';\n",
              "\n",
              "        async function convertToInteractive(key) {\n",
              "          const element = document.querySelector('#df-67ad5a49-68c5-487a-ba91-937b8434c83e');\n",
              "          const dataTable =\n",
              "            await google.colab.kernel.invokeFunction('convertToInteractive',\n",
              "                                                     [key], {});\n",
              "          if (!dataTable) return;\n",
              "\n",
              "          const docLinkHtml = 'Like what you see? Visit the ' +\n",
              "            '<a target=\"_blank\" href=https://colab.research.google.com/notebooks/data_table.ipynb>data table notebook</a>'\n",
              "            + ' to learn more about interactive tables.';\n",
              "          element.innerHTML = '';\n",
              "          dataTable['output_type'] = 'display_data';\n",
              "          await google.colab.output.renderOutput(dataTable, element);\n",
              "          const docLink = document.createElement('div');\n",
              "          docLink.innerHTML = docLinkHtml;\n",
              "          element.appendChild(docLink);\n",
              "        }\n",
              "      </script>\n",
              "    </div>\n",
              "  </div>\n",
              "  "
            ]
          },
          "metadata": {},
          "execution_count": 15
        }
      ]
    },
    {
      "cell_type": "markdown",
      "source": [
        "Analyze the first component. Create a DataFrame with the components, grab the first factor, sort stocks by the component, and plot them. \n",
        "The tech stocks and the gold stocks clustered together. \n",
        "This component is more strongly driving the gold stocks. \n",
        "The analysis covers the period between January 2020 and November 2022, during which covid-19 became widespread."
      ],
      "metadata": {
        "id": "pqhzvE7ylQMh"
      }
    },
    {
      "cell_type": "code",
      "source": [
        "#Another great way to visualize this is with a scatter plot.\n",
        "\n",
        "labels = factor_exposures.index\n",
        "data = factor_exposures.values\n",
        "plt.scatter(data[:, 0], data[:, 1])\n",
        "plt.xlabel('factor exposure of PC1')\n",
        "plt.ylabel('factor exposure of PC2')\n",
        "\n",
        "for label, x, y in zip(labels, data[:, 0], data[:, 1]):\n",
        "    plt.annotate( label,\n",
        "        xy=(x, y), xytext=(-20, 20),\n",
        "        textcoords='offset points',\n",
        "        arrowprops=dict(arrowstyle='->', connectionstyle='arc3,rad=0'))"
      ],
      "metadata": {
        "colab": {
          "base_uri": "https://localhost:8080/",
          "height": 297
        },
        "id": "8aTsjDINldlR",
        "outputId": "33170bef-d1e2-46b5-b043-e0c271683462"
      },
      "execution_count": 17,
      "outputs": [
        {
          "output_type": "display_data",
          "data": {
            "text/plain": [
              "<Figure size 432x288 with 1 Axes>"
            ],
            "image/png": "[encoded data removed]"
          },
          "metadata": {
            "needs_background": "light"
          }
        }
      ]
    },
    {
      "cell_type": "code",
      "source": [],
      "metadata": {
        "id": "1LAebFa5lrC0"
      },
      "execution_count": null,
      "outputs": []
    },
    {
      "cell_type": "markdown",
      "source": [
        "This graph shows how the stocks are driven by the first two principal components. \n",
        "Gold stocks were largely driven by factor one. \n",
        "Tech stocks were negatively driven by factor two.\n",
        "\n",
        "This analysis covered the time period during covid. \n",
        "Gold stocks were bid up strongly as a hedge against inflation and uncertainty. \n",
        "The first factor may be considered as a “covid factor” representing uncertainty across the market. \n",
        "Tech stocks crashed as worries of economic health began."
      ],
      "metadata": {
        "id": "ks831bQkl7G-"
      }
    },
    {
      "cell_type": "code",
      "source": [],
      "metadata": {
        "id": "MhVorWmzmPm8"
      },
      "execution_count": null,
      "outputs": []
    }
  ]
}